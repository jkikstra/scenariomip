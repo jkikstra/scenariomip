{
 "cells": [
  {
   "cell_type": "code",
   "execution_count": 7,
   "metadata": {},
   "outputs": [],
   "source": [
    "import pyam\n",
    "import os"
   ]
  },
  {
   "cell_type": "code",
   "execution_count": 3,
   "metadata": {},
   "outputs": [
    {
     "name": "stderr",
     "output_type": "stream",
     "text": [
      "c:\\Users\\kikstra\\AppData\\Local\\miniconda3\\envs\\pyam\\Lib\\site-packages\\pyam\\iiasa.py:167: DeprecationWarning: This method is deprecated and will be removed in future versions. Please run `ixmp4 login <username>` in a console and manually delete the file 'C:\\Users\\kikstra\\.local\\pyam\\iiasa.yaml'. Using a pyam-credentials file\n",
      "  self.auth = SceSeAuth(creds=creds, auth_url=self._auth_url)\n",
      "[INFO] 14:24:55 - pyam.iiasa: You are connected as user `kikstra`\n",
      "[WARNING] 14:24:55 - pyam.iiasa: IIASA is migrating to a database infrastructure using the ixmp4 package.Use `pyam.iiasa.platforms()` to list available ixmp4 databases.\n"
     ]
    },
    {
     "name": "stdout",
     "output_type": "stream",
     "text": [
      "['aqnea', 'ar6-public', 'ariadne', 'cdlinks', 'climate_solutions', 'commit', 'deeds', 'ece_internal', 'ecemf', 'elevate_internal', 'engage', 'engage_internal', 'eu-climate-advisory-board', 'eu-climate-advisory-board-internal', 'gei', 'genie', 'hotspots', 'iamc15', 'india_scenario_hub', 'integration-test', 'ixmp-dev', 'kopernikus_public', 'navigate', 'nca5', 'netzero2040', 'nexus_basins', 'ngfs_internal', 'ngfs_phase_2', 'ngfs_phase_3', 'ngfs_phase_4', 'ngfs_phase_4_internal', 'ngfs_phase_5_internal', 'openentrance', 'paris_lttg', 'ripples', 'senses', 'set_nav', 'shape_internal', 'ssp']\n"
     ]
    }
   ],
   "source": [
    "conn = pyam.iiasa.Connection()\n",
    "print(sorted(conn.valid_connections))"
   ]
  },
  {
   "cell_type": "code",
   "execution_count": 4,
   "metadata": {},
   "outputs": [
    {
     "name": "stderr",
     "output_type": "stream",
     "text": [
      "c:\\Users\\kikstra\\AppData\\Local\\miniconda3\\envs\\pyam\\Lib\\site-packages\\pyam\\iiasa.py:167: DeprecationWarning: This method is deprecated and will be removed in future versions. Please run `ixmp4 login <username>` in a console and manually delete the file 'C:\\Users\\kikstra\\.local\\pyam\\iiasa.yaml'. Using a pyam-credentials file\n",
      "  self.auth = SceSeAuth(creds=creds, auth_url=self._auth_url)\n",
      "[INFO] 14:25:00 - pyam.iiasa: You are connected to the IXSE_ECE_INTERNAL scenario explorer hosted by IIASA. If you use this data in any published format, please cite the data as provided in the explorer guidelines: https://data.ene.iiasa.ac.at/ece-internal/#/about\n",
      "[INFO] 14:25:00 - pyam.iiasa: You are connected as user `kikstra`\n"
     ]
    },
    {
     "data": {
      "text/plain": [
       "<pyam.iiasa.Connection at 0x1cd7fc2e8a0>"
      ]
     },
     "execution_count": 4,
     "metadata": {},
     "output_type": "execute_result"
    }
   ],
   "source": [
    "pyam.iiasa.Connection('ece_internal')"
   ]
  },
  {
   "cell_type": "code",
   "execution_count": 5,
   "metadata": {},
   "outputs": [
    {
     "name": "stderr",
     "output_type": "stream",
     "text": [
      "[INFO] 14:25:01 - ixmp4.conf.settings: Connecting as user 'kikstra'.\n",
      "c:\\Users\\kikstra\\AppData\\Local\\miniconda3\\envs\\pyam\\Lib\\site-packages\\pyam\\iiasa.py:167: DeprecationWarning: This method is deprecated and will be removed in future versions. Please run `ixmp4 login <username>` in a console and manually delete the file 'C:\\Users\\kikstra\\.local\\pyam\\iiasa.yaml'. Using a pyam-credentials file\n",
      "  self.auth = SceSeAuth(creds=creds, auth_url=self._auth_url)\n",
      "[INFO] 14:25:03 - pyam.iiasa: You are connected to the IXSE_ECE_INTERNAL scenario explorer hosted by IIASA. If you use this data in any published format, please cite the data as provided in the explorer guidelines: https://data.ene.iiasa.ac.at/ece-internal/#/about\n",
      "[INFO] 14:25:03 - pyam.iiasa: You are connected as user `kikstra`\n"
     ]
    }
   ],
   "source": [
    "df = pyam.read_iiasa(\n",
    "    \"ece_internal\",\n",
    "    model=[\"SSP_SSP3_v1.0\", \"SSP_SSP5_v1.0\"],\n",
    "    # variable=[\"Emissions|CO2\", \"Primary Energy|Coal\"],\n",
    "    # region=\"World\",\n",
    "    # meta=[\"category\"],\n",
    "    scenario=[\"baseline (SSP3_H)\", \"baseline (SSP5_H)\"]\n",
    ")"
   ]
  },
  {
   "cell_type": "code",
   "execution_count": 6,
   "metadata": {},
   "outputs": [
    {
     "data": {
      "text/plain": [
       "<class 'pyam.core.IamDataFrame'>\n",
       "Index:\n",
       " * model    : SSP_SSP3_v1.0, SSP_SSP5_v1.0 (2)\n",
       " * scenario : baseline (SSP3_H), baseline (SSP5_H) (2)\n",
       "Timeseries data coordinates:\n",
       "   region   : R12_AFR, R12_CHN, R12_EEU, R12_FSU, R12_LAM, ... World (13)\n",
       "   variable : ... (3078)\n",
       "   unit     : %, EJ/yr, GW, GW/yr, GWa, GWh/yr, GtC/yr, ... years (92)\n",
       "   year     : 1990, 1995, 1996, 1997, 1998, 1999, 2000, 2001, ... 2110 (108)\n",
       "Meta indicators:\n",
       "   version (int64) 1 (1)\n",
       "   p83 peak warming (MAGICCv7.5.3) (float64) 4.019437827302536, ... (2)\n",
       "   p17 year of peak warming (MAGICCv7.5.3) (float64) 2100.0 (1)\n",
       "   p10 year of peak warming (MAGICCv7.5.3) (float64) 2100.0 (1)\n",
       "   Exceedance Probability 4.0C (MAGICCv7.5.3) (float64) 0.17999999999999902, ... (2)\n",
       "   ..."
      ]
     },
     "execution_count": 6,
     "metadata": {},
     "output_type": "execute_result"
    }
   ],
   "source": [
    "df"
   ]
  },
  {
   "cell_type": "code",
   "execution_count": 9,
   "metadata": {},
   "outputs": [
    {
     "name": "stdout",
     "output_type": "stream",
     "text": [
      "Data has been written to scenarios.csv\n"
     ]
    }
   ],
   "source": [
    "output_file = 'scenarios.csv'\n",
    "\n",
    "df.to_csv(\n",
    "    os.path.join('data',output_file)\n",
    ")\n",
    "\n",
    "print(f'Data has been written to {output_file}')"
   ]
  }
 ],
 "metadata": {
  "kernelspec": {
   "display_name": "Python 3",
   "language": "python",
   "name": "python3"
  },
  "language_info": {
   "codemirror_mode": {
    "name": "ipython",
    "version": 3
   },
   "file_extension": ".py",
   "mimetype": "text/x-python",
   "name": "python",
   "nbconvert_exporter": "python",
   "pygments_lexer": "ipython3",
   "version": "3.12.4"
  }
 },
 "nbformat": 4,
 "nbformat_minor": 2
}
